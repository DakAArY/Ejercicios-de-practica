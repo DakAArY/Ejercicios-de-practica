{
 "cells": [
  {
   "cell_type": "markdown",
   "metadata": {
    "cell_id": "6ff42370d31a423c906b45bab34d6aac",
    "deepnote_cell_type": "markdown"
   },
   "source": [
    "# Qué Es la POO?\n",
    "La POO es un paradigma de programación que organiza el código en \"objetos\", los cuales son instancias de \"clases\". Estos objetos combinan datos (atributos) y comportamientos (métodos) relacionados, permitiendo crear programas más modulares, reutilizables y fáciles de mantener."
   ]
  },
  {
   "cell_type": "markdown",
   "metadata": {
    "cell_id": "8dd5f8088e714ff794509b3b6e05d0cf",
    "deepnote_cell_type": "markdown"
   },
   "source": [
    "# Pilares Fundamentales de la POO\n",
    "\n",
    "### 1. Abstracción\n",
    "    Simplificar un concepto complejo, mostrando solo los detalles esenciales y ocultando lo innecesario.\n",
    "\n",
    "### 2. Encapsulamiento\n",
    "    Ocultar los detalles internos de un objeto y controlar el acceso a sus datos mediante métodos (como getters y setters).\n",
    "\n",
    "### 3. Herencia\n",
    "    Crear nuevas clases (hijas) a partir de otras existentes (padres), reutilizando y extendiendo su funcionalidad.\n",
    "\n",
    "### 4. Polimorfismo\n",
    "    Permitir que objetos de diferentes clases se comporten de manera similar a través de una interfaz común."
   ]
  },
  {
   "cell_type": "markdown",
   "metadata": {
    "cell_id": "ff8f2ef79db547e9a71563c30100c71a",
    "deepnote_cell_type": "markdown"
   },
   "source": [
    "# Conceptos basicos de la POO en Python\n",
    "\n",
    "## 1. Clases y objetos\n",
    "\n",
    "### Clase\n",
    "    Es una plantilla o molde que define las propiedades (atributos) y comportamientos (métodos) de un objeto.\n",
    "\n",
    "### Objeto\n",
    "    Es una instancia de una clase. Cada objeto tiene sus propios valores para los atributos definidos en la clase"
   ]
  },
  {
   "cell_type": "code",
   "execution_count": null,
   "metadata": {
    "cell_id": "0711a051031c40efbe5b572f5162b9ce",
    "deepnote_cell_type": "code",
    "execution_context_id": "64c68358-dfb0-4e5f-aca6-b41c2dbef92c",
    "execution_millis": 2,
    "execution_start": 1738991791209,
    "source_hash": "12fdc555"
   },
   "outputs": [],
   "source": [
    "# Definicion de una clase\n",
    "class coche:\n",
    "    # Atributo de clase (compartido con todas las instancias)\n",
    "    ruedas = 4\n",
    "    \n",
    "    #Metodo especial __init__ (constructor)\n",
    "    def __init__(self, marca, color):\n",
    "        self.marca = marca\n",
    "        self.color = color\n",
    "    \n",
    "    # Metodo de instancia (Opera sobre un objeto especifico)\n",
    "    def describir(self):\n",
    "        return f\"Este coche es un {self.marca} de color {self.color}\"\n",
    "    \n",
    "# Creación de objetos (instancias de la clase \"coche\")\n",
    "coche_1 = coche(\"Toyota\", \"rojo\")\n",
    "coche_2 = coche(\"Ford\", \"azul\")\n",
    "\n",
    "# Acceso a atributos y metodos\n",
    "print(coche_1.describir())\n",
    "print(coche_2.describir())\n",
    "print(f\"todos los coches tienen {coche.ruedas} ruedas.\")"
   ]
  },
  {
   "cell_type": "markdown",
   "metadata": {
    "cell_id": "79d7684107d3407bb7a27946e2607e23",
    "deepnote_cell_type": "markdown"
   },
   "source": [
    "## 2. Atributos de Instancia vs Atributos de Clase \n",
    "\n",
    "### Atributos de Instancia\n",
    "    Son únicos para cada objeto. Se definen en el método __init__ usando self\n",
    "\n",
    "### Atributos de Clase\n",
    "    Son compartidos por todas las instancias de la clase. Se definen directamente en la clase"
   ]
  },
  {
   "cell_type": "code",
   "execution_count": null,
   "metadata": {
    "cell_id": "00258341c78d466885c206975e09e994",
    "deepnote_cell_type": "code",
    "execution_context_id": "64c68358-dfb0-4e5f-aca6-b41c2dbef92c",
    "execution_millis": 1,
    "execution_start": 1738992473919,
    "source_hash": "6e7126d0"
   },
   "outputs": [],
   "source": [
    "class Perro:\n",
    "    # Atributo de Clase\n",
    "    especie = \"Canis lupus familiaris\"\n",
    "\n",
    "    def __init__(self, nombre, edad):\n",
    "        # Atributos de instancia\n",
    "        self.nombre = nombre\n",
    "        self.edad = edad\n",
    "    \n",
    "\n",
    "# Creación de objetos\n",
    "perro1 = Perro(\"Rex\", 3)\n",
    "perro2 = Perro(\"Luna\", 5)\n",
    "\n",
    "# Acceso a Atributos\n",
    "print(perro1.nombre) #Observación: Para acceder a atributos no es necesario los parentesis ya que no se esta accediendo a un metodo\n",
    "print(perro2.edad)\n",
    "print(Perro.especie)"
   ]
  },
  {
   "cell_type": "markdown",
   "metadata": {
    "cell_id": "26730acf89fb45ca9c4b48d00cecc891",
    "deepnote_cell_type": "markdown"
   },
   "source": [
    "# Métodos de Instancia, Métodos de Clase y Métodos Estáticos\n",
    "\n",
    "### Métodos de Instancia\n",
    "    Operan sobre un objeto especifico. Reciben self como primer parámetro\n",
    "\n",
    "### Métodos de Clase\n",
    "    Operan sobre la clase en si. Reciben cls como primer parámetro y se decoran con @classmethod\n",
    "\n",
    "### Métodos Estáticos\n",
    "    No dependen de la instancia ni de la clase. Se decoran con @staticmethod"
   ]
  },
  {
   "cell_type": "code",
   "execution_count": null,
   "metadata": {
    "cell_id": "db86efe0f14947008e2e935ca36758d7",
    "deepnote_cell_type": "code",
    "execution_context_id": "e0d2478c-68e7-4c6d-b062-0c161668be37",
    "execution_millis": 1,
    "execution_start": 1739047498340,
    "source_hash": "3db981b4"
   },
   "outputs": [],
   "source": [
    "class Calculadora:\n",
    "    #Metodo de instancia\n",
    "    def sumar(self, a, b):\n",
    "        return a + b\n",
    "    \n",
    "    # Metodo de clase\n",
    "    @classmethod\n",
    "    def info(cls):\n",
    "        return \"Esta es una calculadora basica\"\n",
    "    \n",
    "    #Metodo estatico\n",
    "    @staticmethod\n",
    "    def multiplicar(a, b):\n",
    "        return a * b\n",
    "    \n",
    "\n",
    "#Uso de metodos\n",
    "calc = Calculadora()\n",
    "\n",
    "#Metodo de instancia\n",
    "print(calc.sumar(2, 3)) # Operan sobre un objeto\n",
    "\n",
    "#Metodo de clase\n",
    "print(Calculadora.info()) # Operan sobre la clase\n",
    "\n",
    "#Metodo estatico\n",
    "print(Calculadora.multiplicar(4, 5)) # Operan independientemente de la instancia y la clase"
   ]
  },
  {
   "cell_type": "markdown",
   "metadata": {
    "cell_id": "0ffee963f2e64e409a6518adaeba3234",
    "deepnote_cell_type": "markdown"
   },
   "source": [
    "# Abstracción\n",
    "\n",
    "La abstracción es el proceso de ocultar los detalles complejos de una implementación y mostrar solo la funcionalidad esencial. En POO, esto se logra definiendo clases que representan entidades del mundo real, exponiendo solo lo necesario para interactuar con ellas.\n",
    "\n"
   ]
  },
  {
   "cell_type": "code",
   "execution_count": null,
   "metadata": {
    "cell_id": "77806d66a32b4e1caf6aaea41aa3d577",
    "deepnote_cell_type": "code",
    "execution_context_id": "e0d2478c-68e7-4c6d-b062-0c161668be37",
    "execution_millis": 1,
    "execution_start": 1739048247276,
    "source_hash": "319420ce"
   },
   "outputs": [],
   "source": [
    "# Ejemplo de Abstracción\n",
    "\n",
    "#Definición de una clase abstracta\n",
    "class Coche:\n",
    "    def __init__(self, marca, modelo):\n",
    "        self.marca = marca\n",
    "        self.modelo = modelo\n",
    "    \n",
    "\n",
    "    # Metodo abstracto (simula comportamiento escencial)\n",
    "    def arrancar(self):\n",
    "        raise NotImplementedError(\"Este metodo debe ser implementado por las subclases\")\n",
    "    \n",
    "\n",
    "# Clase concreta que implementa la abstracción\n",
    "class CocheElectrico(Coche):\n",
    "    def arrancar(self):\n",
    "        return f\"El {self.marca} {self.modelo} está arrancando silenciosamente\"\n",
    "\n",
    "\n",
    "# Uso de la abstracción\n",
    "mi_coche = CocheElectrico(\"Tesla\", \"Model S\")\n",
    "print(mi_coche.arrancar())"
   ]
  },
  {
   "cell_type": "markdown",
   "metadata": {
    "cell_id": "1b454eb2ca2b439cbc285d7651a46c2a",
    "deepnote_cell_type": "markdown"
   },
   "source": [
    "#### Explicación detallada\n",
    "- La clase Coche define un método arrancar que no está implementado (simula una abstracción).\n",
    "\n",
    "- La clase CocheElectrico implementa el método arrancar, proporcionando un comportamiento especifico\n",
    "\n",
    "- El usuario solo necesita saber cómo usar el método arrancar, sin preocuparse de los detalles internos."
   ]
  },
  {
   "cell_type": "markdown",
   "metadata": {
    "cell_id": "fba7d3517c1d4a67a32f9849c3e0931c",
    "deepnote_cell_type": "markdown"
   },
   "source": [
    "# Encapsulamiento\n",
    "\n",
    "El encapsulamiento es el mecanismo que restringe el acceso directo a los datos de un objeto y permite modificarlos solo a través de métodos. Esto se logra usando atributos privados y métodos públicos (getters y setters)."
   ]
  },
  {
   "cell_type": "code",
   "execution_count": null,
   "metadata": {
    "cell_id": "2b67a6d4b8d148119e62a7a260c1f126",
    "deepnote_cell_type": "code",
    "execution_context_id": "e0d2478c-68e7-4c6d-b062-0c161668be37",
    "execution_millis": 1,
    "execution_start": 1739049271368,
    "source_hash": "8245f706"
   },
   "outputs": [],
   "source": [
    "# Ejemplo de Encapsulamiento\n",
    "\n",
    "class CuentaBancaria:\n",
    "    def __init__(self, titular, saldo): #Constructor\n",
    "        self.titular = titular\n",
    "        self.__saldo = saldo # Atributo privado (se usa doble guión bajo __)\n",
    "    \n",
    "    # Método publico para obtener el saldo\n",
    "    def obtener_saldo(self):\n",
    "        return self.__saldo\n",
    "    \n",
    "    # Método publico para depositar dinero\n",
    "    def depositar(self, cantidad):\n",
    "        if cantidad > 0:\n",
    "            self.__saldo += cantidad\n",
    "            return f\"Depósito exitoso. Nuevo saldo: {self.__saldo}\"\n",
    "        else:\n",
    "            return \"Cantidad invalida\"\n",
    "    \n",
    "    # Método publico para retirar dinero\n",
    "    def retirar(self, cantidad):\n",
    "        if 0 < cantidad <= self.__saldo:\n",
    "            self.__saldo -= cantidad\n",
    "            return f\"Retiro exitoso. Nuevo saldo: {self.__saldo}\"\n",
    "        else:\n",
    "            return \"Fondos insuficientes o cantidad invalida\"\n",
    "\n",
    "# Creación de una instancia\n",
    "cuenta = CuentaBancaria(\"Juan\", 1000)\n",
    "\n",
    "# Uso de metodos publicos para interactuar con los datos\n",
    "print(cuenta.obtener_saldo())\n",
    "print(cuenta.depositar(500))\n",
    "print(cuenta.retirar(200))"
   ]
  },
  {
   "cell_type": "markdown",
   "metadata": {
    "cell_id": "64c3253f44b045b89a0cd0b86f7e12ee",
    "deepnote_cell_type": "markdown"
   },
   "source": [
    "#### Explicación Detallada\n",
    "\n",
    "- El atributo __saldo es privado (no se puede acceder directamente desde fuera de la clase).\n",
    "\n",
    "- Los métodos obtener_saldo, depositar y retirar son públicos y permiten interactuar con el saldo de manera controlada.\n",
    "\n",
    "- Esto protege los datos de modificaciones no autorizadas y asegura la integridad del objeto.\n",
    "\n"
   ]
  },
  {
   "cell_type": "markdown",
   "metadata": {
    "cell_id": "a588761b572e4d03932a49b4a147261d",
    "deepnote_cell_type": "markdown"
   },
   "source": [
    "# Herencia\n",
    "\n",
    "La herencia es un pilar de la POO que permite crear una nueva clase (llamada clase derivada o subclase) a partir de una clase existente (llamada clase base o superclase). La subclase hereda atributos y métodos de la superclase, y puede extender o modificar su comportamiento.\n",
    "\n",
    "BENEFICIOS DE LA HERENCIA:\n",
    "\n",
    "- Reutilización de código: Evita duplicar código al heredar atributos y métodos.\n",
    "\n",
    "- Extensibilidad: Permite agregar nuevas funcionalidades a una clase existente.\n",
    "\n",
    "- Jerarquía: Organiza las clases en una estructura jerárquica que refleja relaciones del mundo real."
   ]
  },
  {
   "cell_type": "code",
   "execution_count": null,
   "metadata": {
    "cell_id": "c15f54570588499a83c57bc644848a3d",
    "deepnote_cell_type": "code"
   },
   "outputs": [],
   "source": [
    "# Clase Base (SuperClase)\n",
    "class Animal:\n",
    "    def __init__(self, nombre, edad):\n",
    "        #Atributos de la clase base\n",
    "        self.nombre = nombre\n",
    "        self.edad = edad\n",
    "\n",
    "    # Metodo de la clase base\n",
    "    def hacer_sonido(self):\n",
    "        return \"Este animal hace un sonido.\"\n",
    "\n",
    "\n",
    "#Clase derivada (subclase) que hereda de Animal\n",
    "class perro(Animal):\n",
    "    def __init__(self, nombre, edad, raza):\n",
    "        #Llamada al constructor de la clase base (superclase)\n",
    "        super().__init__(nombre, edad)\n",
    "        # Atributo adicional de la subclase\n",
    "        self.raza = raza\n",
    "    \n",
    "    #Sobrescritura del método de la clase base\n",
    "    def hacer_sonido(self):\n",
    "        return \"¡Guau!\"\n",
    "    \n",
    "    #Metodo adicional de la subclase\n",
    "    def ladrar(self):\n",
    "        return f\"{self.nombre} está ladrando\"\n",
    "    \n",
    "\n",
    "# Otra clase derivada (subclase) que hereda de Animal\n",
    "class Gato(Animal):\n",
    "    def __init__(self, nombre, edad, color):\n",
    "        # Llamada al constructor de la clase base\n",
    "        super().__init__(nombre, edad)\n",
    "        #Atributo adicional de la subclase\n",
    "        self.color = color\n",
    "        \n",
    "    #Sobrescritura del metodo de la clase base\n",
    "    def hacer_sonido(self):\n",
    "        return \"¡Miau!\"\n",
    "    \n",
    "    # Metodo adicinal de la subclase\n",
    "    def ronronear(self):\n",
    "        return f\"{self.nombre} está ronroneando\"\n",
    "\n",
    "# Creacion de objetos de la subclase\n",
    "mi_perro = perro(\"Rex\", 3, \"Labrador\")\n",
    "mi_gato = Gato(\"Mimi\", 2, \"Gris\")\n",
    "\n",
    "#Uso de metodos heredados y propios\n",
    "print(mi_perro.hacer_sonido())\n",
    "print(mi_perro.ladrar())\n",
    "print(mi_gato.hacer_sonido())\n",
    "print(mi_gato.ronronear())"
   ]
  },
  {
   "cell_type": "markdown",
   "metadata": {},
   "source": [
    "# Polimorfismo\n",
    "\n",
    "El polimorfismo es uno de los pilares de la Programación Orientada a Objetos (POO) que permite que objetos de diferentes clases puedan ser tratados como objetos de una clase común, siempre que compartan una interfaz (métodos con el mismo nombre). En otras palabras, el polimorfismo permite que un mismo método o función opere de manera diferente según el objeto que lo invoque.\n",
    "\n",
    "Características clave del polimorfismo:\n",
    "\n",
    "- Interfaz común: Diferentes clases implementan métodos con el mismo nombre, lo que permite que esos métodos sean llamados de manera uniforme.\n",
    "\n",
    "- Sobrescritura de métodos: Las subclases pueden redefinir métodos heredados de una superclase para proporcionar comportamientos específicos.\n",
    "\n",
    "- Flexibilidad: El código puede trabajar con objetos de múltiples tipos sin necesidad de conocer su clase específica."
   ]
  },
  {
   "cell_type": "code",
   "execution_count": null,
   "metadata": {},
   "outputs": [],
   "source": [
    "# Clase Base\n",
    "class Dispositivo:\n",
    "    def encender(self):\n",
    "        return \"El dispositivo se esta encendiendo...\"\n",
    "\n",
    "# Subclase que hereda de Dispositivo\n",
    "class Telefono(Dispositivo):\n",
    "    def encender(self): # Sobrescribe el metodo de la clase base\n",
    "        return \"El telefono muestra la pantalla de inicio\"\n",
    "\n",
    "# Otra subclase que hereda de Dispositivo\n",
    "class Laptop(Dispositivo):\n",
    "    def encender(self): # Sobrescribe el metodo de la clase base\n",
    "        return \"La laptop carga el sistema operativo\"\n",
    "\n",
    "# Otra subclase que hereda de Dispositivo\n",
    "class Tablet(Dispositivo):\n",
    "    def encender(self): # Sobrescribe el metodo de la clase base\n",
    "        return \"La tablet muestra el logo del fabricante\"\n",
    "\n",
    "# Funcion que usa polimorfismo\n",
    "def usar_dispositivo(dispositivo):\n",
    "    print(dispositivo.encender())\n",
    "\n",
    "# Creación de objetos\n",
    "mi_telefono = Telefono()\n",
    "mi_laptop = Laptop()\n",
    "mi_tablet = Tablet()\n",
    "\n",
    "# Uso del polimorfismo\n",
    "usar_dispositivo(mi_telefono)\n",
    "usar_dispositivo(mi_laptop)\n",
    "usar_dispositivo(mi_tablet)"
   ]
  },
  {
   "cell_type": "markdown",
   "metadata": {},
   "source": [
    "# Métodos especiales (Dunder Methods)\n",
    "\n",
    "Los métodos especiales son métodos predefinidos en Python que tienen nombres específicos (siempre rodeados por doble guion bajo, como __init__, __str__, __add__, etc.). Estos métodos permiten:\n",
    "\n",
    "1- Personalizar cómo se comportan los objetos de una clase en operaciones comunes (como sumar, comparar, imprimir, etc.).\n",
    "\n",
    "2- Hacer que las clases sean más \"pythonicas\" y se integren mejor con las funcionalidades del lenguaje."
   ]
  },
  {
   "cell_type": "markdown",
   "metadata": {},
   "source": [
    "## Métodos especiales comunes\n",
    "\n",
    "\n",
    "\n",
    "`__init__`: Constructor de la clase. Se llama al crear una instancia.\n",
    "\n",
    "`__str__`: Define la representación en cadena de texto del objeto (usado por print() y str()).\n",
    "\n",
    "`__repr__`: Define la representación \"oficial\" del objeto (usado en la consola interactiva y por repr()).\n",
    "\n",
    "`__add__`: Define el comportamiento del operador +.\n",
    "\n",
    "`__len__`: Define el comportamiento de la función len().\n",
    "\n",
    "`__eq__`: Define el comportamiento del operador ==.\n",
    "\n",
    "`__getitem__` y `__setitem__`: Permiten acceder a elementos del objeto como si fuera una lista o diccionario."
   ]
  },
  {
   "cell_type": "code",
   "execution_count": 4,
   "metadata": {},
   "outputs": [
    {
     "name": "stdout",
     "output_type": "stream",
     "text": [
      "Vector(3, 4)\n",
      "Vector(x=3, y=4)\n",
      "Vector(4, 6)\n",
      "False\n",
      "5\n"
     ]
    }
   ],
   "source": [
    "\"\"\"\n",
    "Vamos a crear una clase Vector que represente un vector en 2D y personalice su comportamiento \n",
    "usando métodos especiales.\n",
    "\"\"\"\n",
    "\n",
    "class Vector:\n",
    "    def __init__(self, x, y):\n",
    "        # Constructor: inicializa los atributos x, y\n",
    "        self.x = x\n",
    "        self.y = y \n",
    "        \n",
    "    def __str__(self):\n",
    "        # Representación en cadena de texto (amigable para el usuario)\n",
    "        return f\"Vector({self.x}, {self.y})\"\n",
    "    \n",
    "    def __repr__(self):\n",
    "        # Representación \"oficial\" (usada en la consola interactiva)\n",
    "        return f\"Vector(x={self.x}, y={self.y})\"\n",
    "    \n",
    "    def __add__(self, otro):\n",
    "        # Define el comportamiendo del operador +\n",
    "        return Vector(self.x + otro.x, self.y + otro.y)\n",
    "    \n",
    "    def __eq__(self, otro):\n",
    "        # Define el comportamiento del operador ==\n",
    "        return self.x == otro.x and self.y == otro.y\n",
    "    \n",
    "    def __len__(self):\n",
    "        # Define el comportamiento del operador len() (en este caso la magnitud del vector)\n",
    "        return int((self.x**2 + self.y**2)**0.5)\n",
    "    \n",
    "# Creación de objetos\n",
    "v1 = Vector(3, 4)\n",
    "v2 = Vector(1, 2)\n",
    "\n",
    "# Uso de metodos especiales\n",
    "print(v1)\n",
    "print(repr(v1))\n",
    "\n",
    "v3 = v1 + v2\n",
    "print(v3)\n",
    "\n",
    "print(v1 == v2)\n",
    "print(len(v1))"
   ]
  }
 ],
 "metadata": {
  "deepnote_notebook_id": "412a96a08bde4b319a6bb151204f2642",
  "deepnote_persisted_session": {
   "createdAt": "2025-02-08T21:30:29.875Z"
  },
  "kernelspec": {
   "display_name": "Python 3",
   "language": "python",
   "name": "python3"
  },
  "language_info": {
   "codemirror_mode": {
    "name": "ipython",
    "version": 3
   },
   "file_extension": ".py",
   "mimetype": "text/x-python",
   "name": "python",
   "nbconvert_exporter": "python",
   "pygments_lexer": "ipython3",
   "version": "3.13.1"
  }
 },
 "nbformat": 4,
 "nbformat_minor": 0
}
