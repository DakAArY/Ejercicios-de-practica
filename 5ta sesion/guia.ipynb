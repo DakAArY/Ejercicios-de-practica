{
 "cells": [
  {
   "cell_type": "markdown",
   "metadata": {},
   "source": [
    "# Guia sobre Cadenas y Tuplas en Python"
   ]
  },
  {
   "cell_type": "markdown",
   "metadata": {},
   "source": [
    "## Cosas a recordar para estos temas: Variables\n",
    "Antes de comenzar con strings y tuplas, necesitamos entender las variables"
   ]
  },
  {
   "cell_type": "code",
   "execution_count": 1,
   "metadata": {},
   "outputs": [
    {
     "name": "stdout",
     "output_type": "stream",
     "text": [
      "La variable 'nombre' contiene: Juan\n",
      "La variable 'edad' contiene: 25\n",
      "Ahora 'nombre' contiene: Ana\n"
     ]
    }
   ],
   "source": [
    "nombre = \"Juan\"\n",
    "edad = 25\n",
    "print(f\"La variable 'nombre' contiene: {nombre}\")\n",
    "print(f\"La variable 'edad' contiene: {edad}\")\n",
    "\n",
    "#Probemos cambiar el valor\n",
    "nombre = \"Ana\"\n",
    "print(f\"Ahora 'nombre' contiene: {nombre}\")"
   ]
  },
  {
   "cell_type": "markdown",
   "metadata": {},
   "source": [
    "## Cadenas en Python\n",
    "Las cadenas (strings) en Python son secuencias de caracteres. Se pueden\n",
    "crear utilizando comillas simples (''), comillas dobles (\"\"), o triples comillas(\"\"\", ''') para cadenas multilinea"
   ]
  },
  {
   "cell_type": "code",
   "execution_count": null,
   "metadata": {},
   "outputs": [],
   "source": [
    "#Creacion de cadenas\n",
    "cadena1 = 'Hola'\n",
    "cadena2 = \"Mundo\"\n",
    "cadena_multilinea = \"\"\"Esta es una cadena \n",
    "multilinea en python\n",
    "\"\"\"\n",
    "\n",
    "print(cadena1)\n",
    "print(cadena2)\n",
    "print(cadena_multilinea)"
   ]
  },
  {
   "cell_type": "markdown",
   "metadata": {},
   "source": [
    "## Operaciones Basicas con Cadenas\n",
    "\n",
    "Puedes realizar varias operaciones con cadenas, como concatenacion, repeticion, y acceso a caracteres individuales."
   ]
  },
  {
   "cell_type": "code",
   "execution_count": 2,
   "metadata": {},
   "outputs": [
    {
     "name": "stdout",
     "output_type": "stream",
     "text": [
      "Hola Mundo\n",
      "HolaHolaHola\n",
      "La palabra Python tiene 6 letras\n"
     ]
    }
   ],
   "source": [
    "#Concatenacion y repeticion de cadenas\n",
    "cadena1 = 'Hola'\n",
    "cadena2 = 'Mundo'\n",
    "cadena_concatenada = cadena1 + ' ' + cadena2 #En este ejemplo, tambien se le concatena un espacio para que no este todo junto en la string\n",
    "cadena_repetida = cadena1 * 3 #Multiplicacion  de cadenas\n",
    "\n",
    "print(cadena_concatenada)\n",
    "print(cadena_repetida)\n",
    "\n",
    "#Longitud de un string\n",
    "texto = \"Python\"\n",
    "print(f\"La palabra {texto} tiene {len(texto)} letras\") #len es una funcion que cuenta cuantos elementos tiene una lista/tupla/string/etc. Recibe el arreglo como parametro"
   ]
  },
  {
   "cell_type": "code",
   "execution_count": 3,
   "metadata": {},
   "outputs": [
    {
     "name": "stdout",
     "output_type": "stream",
     "text": [
      "Primera letra: P\n",
      "Segunda letra: y\n",
      "Ultima letra: n\n",
      "Penultima palabra: o\n",
      "Primeras tres letras: Pyt\n",
      "Sin primera letra: ython\n",
      "Sin ultima letra: Pytho\n"
     ]
    }
   ],
   "source": [
    "#Acceso a caracteres y subcadenas\n",
    "palabra = 'Python'\n",
    "#Indices positivos (desde el inicio)\n",
    "print(f\"Primera letra: {palabra[0]}\") #recordemos que el primer elemento siempre tiene el indice 0\n",
    "print(f\"Segunda letra: {palabra[1]}\")\n",
    "\n",
    "#Indices negativos (desde el final)\n",
    "print(f\"Ultima letra: {palabra[-1]}\") #si se toman indices negativos, el arreglo comenzará desde el ultimo caracter hasta el primero\n",
    "print(f\"Penultima palabra: {palabra[-2]}\")\n",
    "\n",
    "#Slicing (rebanadas)\n",
    "print(f\"Primeras tres letras: {palabra[0:3]}\")\n",
    "print(f\"Sin primera letra: {palabra[1:]}\")\n",
    "print(f\"Sin ultima letra: {palabra[:-1]}\")"
   ]
  },
  {
   "cell_type": "markdown",
   "metadata": {},
   "source": [
    "## Metodos de Cadenas\n",
    "\n",
    "Las cadenas en python tienen varios metodos incorporados para manipular y trabajar con ellas."
   ]
  },
  {
   "cell_type": "code",
   "execution_count": 4,
   "metadata": {},
   "outputs": [
    {
     "name": "stdout",
     "output_type": "stream",
     "text": [
      "HOLA MUNDO\n",
      "hola mundo\n",
      "Hola mundo\n",
      "Python\n",
      "Hola Python\n",
      "['Hola', 'Mundo']\n",
      "['uno', 'dos', 'tres']\n"
     ]
    }
   ],
   "source": [
    "#Ejemplos de metodos de cadenas\n",
    "cadena = 'Hola Mundo'\n",
    "cadena_min = 'hola mundo'\n",
    "cadena_comas = \"uno,dos,tres\"\n",
    "\n",
    "#Convertir a mayusculas\n",
    "print(cadena.upper()) #Todo en mayusculas\n",
    "\n",
    "#Convertir a minusculas\n",
    "print(cadena.lower()) #Todo en minusculas\n",
    "\n",
    "#Primera letra en mayusculas\n",
    "print(cadena_min.capitalize())\n",
    "\n",
    "#Eliminar espacios\n",
    "print(texto.strip()) #Elimina espacios al inicio y al final\n",
    "\n",
    "#Reemplazar subcadena\n",
    "print(cadena.replace('Mundo', 'Python'))\n",
    "\n",
    "#Dividir cadena\n",
    "print(cadena.split()) #Si split esta vacio, dividira por defecto a partir de los espacios\n",
    "print(cadena_comas.split(\",\")) #Aqui se le agrega como parametro una coma, para que divida unicamente a partir de comas"
   ]
  },
  {
   "cell_type": "markdown",
   "metadata": {},
   "source": [
    "## Formato de strings\n",
    "\n",
    "Los formatos de strings no son nada mas que la manera en que se llaman variables dentro de las strings\n",
    "(tema extra y opcional de estudiar, unicamente con proposito de mayor entendimiento de como funcionan las strings)"
   ]
  },
  {
   "cell_type": "code",
   "execution_count": 5,
   "metadata": {},
   "outputs": [
    {
     "name": "stdout",
     "output_type": "stream",
     "text": [
      "Me llamo Juan y tengo 25 años\n",
      "Me llamo Juan y tengo 25 años\n",
      "Me llamo Juan y tengo 25 años\n"
     ]
    }
   ],
   "source": [
    "nombre = \"Juan\"\n",
    "edad = 25\n",
    "\n",
    "#Formato usando f-strings (moderno)\n",
    "print(f\"Me llamo {nombre} y tengo {edad} años\")\n",
    "\n",
    "#Formato usando .format()\n",
    "print(\"Me llamo {} y tengo {} años\".format(nombre, edad)) #Se tienen que agregar en orden de aparacion\n",
    "\n",
    "#Formato con %\n",
    "print(\"Me llamo %s y tengo %d años\" % (nombre, edad))"
   ]
  },
  {
   "cell_type": "markdown",
   "metadata": {},
   "source": [
    "## Tuplas en Python\n",
    "\n",
    "Las tuplas son secuencias inmutables de elementos. Se crean utilizando parentesis ()"
   ]
  },
  {
   "cell_type": "code",
   "execution_count": 6,
   "metadata": {},
   "outputs": [
    {
     "name": "stdout",
     "output_type": "stream",
     "text": [
      "(1, 2, 3)\n",
      "('a', 'b', 'c')\n",
      "()\n",
      "(1, 'a', 3.14, True)\n"
     ]
    }
   ],
   "source": [
    "#Creacion de tuplas\n",
    "tupla1 = (1, 2, 3)\n",
    "tupla2 = ('a', 'b', 'c')\n",
    "tupla_vacia = ()\n",
    "tupla_mixta = (1, 'a', 3.14, True)\n",
    "\n",
    "print(tupla1)\n",
    "print(tupla2)\n",
    "print(tupla_vacia)\n",
    "print(tupla_mixta)"
   ]
  },
  {
   "cell_type": "code",
   "execution_count": null,
   "metadata": {},
   "outputs": [],
   "source": [
    "#Acceso a elementos de una tupla\n",
    "tupla = (10, 20, 30, 40, 50)\n",
    "primer_elemento = tupla[0]\n",
    "ultimo_elemento = tupla[-1]\n",
    "subtupla = tupla[1:4]\n",
    "\n",
    "print(primer_elemento)\n",
    "print(ultimo_elemento)\n",
    "print(subtupla)"
   ]
  },
  {
   "cell_type": "code",
   "execution_count": 7,
   "metadata": {},
   "outputs": [
    {
     "name": "stdout",
     "output_type": "stream",
     "text": [
      "1\n",
      "2\n",
      "3\n"
     ]
    }
   ],
   "source": [
    "#Desempaquetado de tuplas\n",
    "tupla = (1, 2, 3)\n",
    "a, b, c = tupla\n",
    "\n",
    "print(a)\n",
    "print(b)\n",
    "print(c)"
   ]
  },
  {
   "cell_type": "markdown",
   "metadata": {},
   "source": [
    "## Metodos de Tuplas\n",
    "\n",
    "Las tuplas tienen menos metodos que las listas debido a su inmutabilidad, pero aun asi tienen algunos metodos utiles"
   ]
  },
  {
   "cell_type": "code",
   "execution_count": 8,
   "metadata": {},
   "outputs": [
    {
     "name": "stdout",
     "output_type": "stream",
     "text": [
      "3\n",
      "2\n"
     ]
    }
   ],
   "source": [
    "#Ejemplos de metodos de tuplas\n",
    "tupla = (1, 2, 3, 2, 4, 2)\n",
    "\n",
    "#Contar ocurrencias de un elemento\n",
    "print(tupla.count(2))\n",
    "\n",
    "#Encontrar indice de un elemento\n",
    "print(tupla.index(3))"
   ]
  },
  {
   "cell_type": "markdown",
   "metadata": {},
   "source": [
    "## Ejercicios Practicos\n",
    "1. Crear un string con tu nombre y apellido\n",
    "2. Convertirlo a mayúsculas\n",
    "3. Contar cuántas vocales tiene\n",
    "4. Crear una tupla con tus 3 colores favoritos\n",
    "5. Crear una función que combine tu nombre con tus colores favoritos"
   ]
  },
  {
   "cell_type": "code",
   "execution_count": 8,
   "metadata": {},
   "outputs": [
    {
     "name": "stdout",
     "output_type": "stream",
     "text": [
      "Nombre en mayúsculas: JUAN PÉREZ\n",
      "Número de vocales: 3\n",
      "A JUAN PÉREZ le gusta el color azul\n",
      "A JUAN PÉREZ le gusta el color verde\n",
      "A JUAN PÉREZ le gusta el color rojo\n"
     ]
    }
   ],
   "source": [
    "# Ejemplo de solución\n",
    "def ejercicio_completo():\n",
    "    # 1 y 2\n",
    "    nombre_completo = \"Juan Pérez\".upper()\n",
    "    print(f\"Nombre en mayúsculas: {nombre_completo}\")\n",
    "    \n",
    "    # 3\n",
    "    vocales = sum(1 for letra in nombre_completo.lower() if letra in 'aeiou')\n",
    "    print(f\"Número de vocales: {vocales}\")\n",
    "    \n",
    "    # 4\n",
    "    colores = (\"azul\", \"verde\", \"rojo\")\n",
    "    \n",
    "    # 5\n",
    "    for color in colores:\n",
    "        print(f\"A {nombre_completo} le gusta el color {color}\")\n",
    "\n",
    "ejercicio_completo()"
   ]
  },
  {
   "cell_type": "markdown",
   "metadata": {},
   "source": [
    "## Casos de Uso Reales"
   ]
  },
  {
   "cell_type": "code",
   "execution_count": 9,
   "metadata": {},
   "outputs": [
    {
     "name": "stdout",
     "output_type": "stream",
     "text": [
      "juan123\n",
      "(40.7128, -74.006)\n"
     ]
    }
   ],
   "source": [
    "# Procesamiento de nombres de usuario\n",
    "def procesar_usuario(nombre_usuario):\n",
    "    # Eliminar espacios y convertir a minúsculas\n",
    "    usuario_limpio = nombre_usuario.strip().lower()\n",
    "    return usuario_limpio\n",
    "\n",
    "# Coordenadas GPS\n",
    "def guardar_ubicacion(latitud, longitud):\n",
    "    ubicacion = (latitud, longitud)\n",
    "    return ubicacion\n",
    "\n",
    "# Ejemplos\n",
    "print(procesar_usuario(\"  Juan123  \"))\n",
    "print(guardar_ubicacion(40.7128, -74.0060))"
   ]
  }
 ],
 "metadata": {
  "kernelspec": {
   "display_name": "Python 3",
   "language": "python",
   "name": "python3"
  },
  "language_info": {
   "codemirror_mode": {
    "name": "ipython",
    "version": 3
   },
   "file_extension": ".py",
   "mimetype": "text/x-python",
   "name": "python",
   "nbconvert_exporter": "python",
   "pygments_lexer": "ipython3",
   "version": "3.13.0"
  }
 },
 "nbformat": 4,
 "nbformat_minor": 2
}
