{
 "cells": [
  {
   "cell_type": "markdown",
   "metadata": {},
   "source": [
    "# Creacion de un diccionario basico\n",
    "## Creamos un diccionario con informacion personal"
   ]
  },
  {
   "cell_type": "code",
   "execution_count": 1,
   "metadata": {},
   "outputs": [],
   "source": [
    "persona = {\n",
    "    \"nombre\": \"Ana\",\n",
    "    \"edad\": 25,\n",
    "    \"ciudad\": \"Madrid\"\n",
    "}"
   ]
  },
  {
   "cell_type": "markdown",
   "metadata": {},
   "source": [
    "# Metodos principales de diccionarios"
   ]
  },
  {
   "cell_type": "markdown",
   "metadata": {},
   "source": [
    "### 1. get() - Obtiene un valor de forma segura, permite valores por defecto"
   ]
  },
  {
   "cell_type": "code",
   "execution_count": null,
   "metadata": {},
   "outputs": [],
   "source": [
    "print(persona.get(\"nombre\"))\n",
    "print(persona.get(\"pais\", \"No especificado\"))"
   ]
  },
  {
   "cell_type": "markdown",
   "metadata": {},
   "source": [
    "### 2. keys() - Obtiene todas las claves del diccionario\n"
   ]
  },
  {
   "cell_type": "code",
   "execution_count": null,
   "metadata": {},
   "outputs": [],
   "source": [
    "claves = persona.keys()\n",
    "print(claves)"
   ]
  },
  {
   "cell_type": "markdown",
   "metadata": {},
   "source": [
    "### 3. values() - Obtiene todos los valores del diccionario"
   ]
  },
  {
   "cell_type": "code",
   "execution_count": 4,
   "metadata": {},
   "outputs": [
    {
     "name": "stdout",
     "output_type": "stream",
     "text": [
      "dict_values(['Ana', 25, 'Madrid'])\n"
     ]
    }
   ],
   "source": [
    "valores = persona.values()\n",
    "print(valores)"
   ]
  },
  {
   "cell_type": "markdown",
   "metadata": {},
   "source": [
    "### 4. items() - Obtiene pares clave-valor del diccionario"
   ]
  },
  {
   "cell_type": "code",
   "execution_count": 5,
   "metadata": {},
   "outputs": [
    {
     "name": "stdout",
     "output_type": "stream",
     "text": [
      "dict_items([('nombre', 'Ana'), ('edad', 25), ('ciudad', 'Madrid')])\n"
     ]
    }
   ],
   "source": [
    "items = persona.items()\n",
    "print(items)"
   ]
  },
  {
   "cell_type": "markdown",
   "metadata": {},
   "source": [
    "### 5. update() - Actualiza el diccionario con nuevos pares clave-valor"
   ]
  },
  {
   "cell_type": "code",
   "execution_count": 6,
   "metadata": {},
   "outputs": [
    {
     "name": "stdout",
     "output_type": "stream",
     "text": [
      "{'nombre': 'Ana', 'edad': 26, 'ciudad': 'Madrid', 'profesion': 'Ingeniera'}\n"
     ]
    }
   ],
   "source": [
    "nueva_info = {\n",
    "    \"profesion\": \"Ingeniera\",\n",
    "    \"edad\": 26\n",
    "}\n",
    "persona.update(nueva_info)\n",
    "print(persona)"
   ]
  },
  {
   "cell_type": "markdown",
   "metadata": {},
   "source": [
    "### 6. pop() Elimina y retorna un elemento por su clave"
   ]
  },
  {
   "cell_type": "code",
   "execution_count": 7,
   "metadata": {},
   "outputs": [
    {
     "name": "stdout",
     "output_type": "stream",
     "text": [
      "Elemento eliminado = Ingeniera\n",
      "Diccionario actualizado: {'nombre': 'Ana', 'edad': 26, 'ciudad': 'Madrid'}\n"
     ]
    }
   ],
   "source": [
    "# Eliminamos un elemento y lo guardamos en una variable\n",
    "profesion_eliminada = persona.pop(\"profesion\")\n",
    "print(f\"Elemento eliminado = {profesion_eliminada}\")\n",
    "print(f\"Diccionario actualizado: {persona}\")"
   ]
  },
  {
   "cell_type": "markdown",
   "metadata": {},
   "source": [
    "### 7. clear() - Vacia el diccionario"
   ]
  },
  {
   "cell_type": "code",
   "execution_count": 8,
   "metadata": {},
   "outputs": [
    {
     "name": "stdout",
     "output_type": "stream",
     "text": [
      "Diccionario vacio: {}\n"
     ]
    }
   ],
   "source": [
    "#Creamos un nuevo diccionario y lo vaciamos\n",
    "temp_dict = {\n",
    "    \"a\": 1,\n",
    "    \"b\": 2\n",
    "}\n",
    "temp_dict.clear()\n",
    "print(f\"Diccionario vacio: {temp_dict}\")"
   ]
  },
  {
   "cell_type": "markdown",
   "metadata": {},
   "source": [
    "### 8. copy() - Crea una copia superficial del diccionario"
   ]
  },
  {
   "cell_type": "code",
   "execution_count": 9,
   "metadata": {},
   "outputs": [
    {
     "name": "stdout",
     "output_type": "stream",
     "text": [
      "Copia del diccionario: {'nombre': 'Ana', 'edad': 26, 'ciudad': 'Madrid'}\n"
     ]
    }
   ],
   "source": [
    "#Creamos una copia del diccionario\n",
    "persona_copia = persona.copy()\n",
    "print(f\"Copia del diccionario: {persona_copia}\")"
   ]
  },
  {
   "cell_type": "markdown",
   "metadata": {},
   "source": [
    "### setdefault() - inserta un par clave-valor si la clave no existe"
   ]
  },
  {
   "cell_type": "code",
   "execution_count": 10,
   "metadata": {},
   "outputs": [
    {
     "name": "stdout",
     "output_type": "stream",
     "text": [
      "{'nombre': 'Ana', 'edad': 26, 'ciudad': 'Madrid', 'pais': 'España'}\n"
     ]
    }
   ],
   "source": [
    "# Insertamos un nuevo valor solo si no existe\n",
    "persona.setdefault(\"pais\", \"España\")\n",
    "print(persona)"
   ]
  },
  {
   "cell_type": "markdown",
   "metadata": {},
   "source": [
    "# Ejemplos"
   ]
  },
  {
   "cell_type": "code",
   "execution_count": 3,
   "metadata": {},
   "outputs": [
    {
     "name": "stdout",
     "output_type": "stream",
     "text": [
      "Diccionario Original: {'A': 5, 'B': 3, 'C': 4, 'D': 0}\n",
      "Resultados de los factoriales: {'A': 120, 'B': 6, 'C': 24, 'D': 1}\n"
     ]
    }
   ],
   "source": [
    "#Sacar el factorial de los valores de un diccionario\n",
    "def factorial(n):\n",
    "    if n < 0:\n",
    "        return None\n",
    "    if n == 0 or n == 1:\n",
    "        return 1\n",
    "    \n",
    "    fact = 1\n",
    "    \n",
    "    for i in range(2, n + 1):\n",
    "        fact *= i\n",
    "    \n",
    "    return fact\n",
    "\n",
    "def get_factorials(dictionary):\n",
    "    result = {}\n",
    "    \n",
    "    for clave, valor in dictionary.items():\n",
    "        result[clave] = factorial(valor)\n",
    "    \n",
    "    return result\n",
    "\n",
    "def main():\n",
    "    numbers = {\n",
    "        'A': 5,\n",
    "        'B': 3,\n",
    "        'C': 4,\n",
    "        'D': 0\n",
    "    }\n",
    "    \n",
    "    result = get_factorials(numbers)\n",
    "    print(\"Diccionario Original:\", numbers)\n",
    "    print(\"Resultados de los factoriales:\", result)\n",
    "    \n",
    "if __name__ == \"__main__\":\n",
    "    main()"
   ]
  },
  {
   "cell_type": "code",
   "execution_count": null,
   "metadata": {},
   "outputs": [
    {
     "name": "stdout",
     "output_type": "stream",
     "text": [
      "Diccionario original: {'A': 5, 'B': 3, 'C': 0}\n",
      "Factoriales calculados: {'A': 120, 'B': 6, 'C': 1}\n"
     ]
    }
   ],
   "source": [
    "# Version alternativa usando la libreria math\n",
    "\n",
    "import math\n",
    "\n",
    "def calcular_factoriales(diccionario):\n",
    "    factoriales = {}\n",
    "    \n",
    "    for clave, valor in diccionario.items():\n",
    "        factoriales[clave] = math.factorial(valor)\n",
    "    \n",
    "    return factoriales\n",
    "\n",
    "def main():\n",
    "    numeros = {\n",
    "        \"A\": 5,\n",
    "        \"B\": 3,\n",
    "        \"C\": 0\n",
    "    }\n",
    "\n",
    "    resultados = calcular_factoriales(numeros)\n",
    "    print(\"Diccionario original:\", numeros)\n",
    "    print(\"Factoriales calculados:\", resultados)\n",
    "\n",
    "\n",
    "if __name__ == \"__main__\":\n",
    "    main()"
   ]
  },
  {
   "cell_type": "code",
   "execution_count": 6,
   "metadata": {},
   "outputs": [
    {
     "name": "stdout",
     "output_type": "stream",
     "text": [
      "Diccionario Original: {'A': 4, 'B': -2, 'C': -3, 'D': 7, 'E': 6, 'F': -5}\n",
      "Numeros pares al cuadrado:  {'A': 16, 'B': 4, 'C': -3, 'D': 7, 'E': 36, 'F': -5}\n",
      "Numeros negativos al cubo:  {'A': 4, 'B': -8, 'C': -27, 'D': 7, 'E': 6, 'F': -125}\n"
     ]
    }
   ],
   "source": [
    "#Elevar valores pares al cuadrado\n",
    "def elevar_pares(diccionario):\n",
    "    result = {}\n",
    "    for key, value in diccionario.items():\n",
    "        if value % 2 == 0:\n",
    "            result[key] = value ** 2\n",
    "        else:\n",
    "            result[key] = value\n",
    "    \n",
    "    return result\n",
    "\n",
    "#Elevar valores negativos al cubo\n",
    "def negativos_cubo(diccionario):\n",
    "    result = {}\n",
    "    for key, value in diccionario.items():\n",
    "        if value < 0:\n",
    "            result[key] = value ** 3\n",
    "        else:\n",
    "            result[key] = value\n",
    "    \n",
    "    return result\n",
    "\n",
    "def main():\n",
    "    \n",
    "    numbers = {\n",
    "        'A': 4,  \n",
    "        'B': -2,   \n",
    "        'C': -3,  \n",
    "        'D': 7,   \n",
    "        'E': 6,   \n",
    "        'F': -5    \n",
    "    }\n",
    "    \n",
    "    print(\"Diccionario Original:\", numbers)\n",
    "    \n",
    "    # Process even numbers (square them)\n",
    "    squared_result = elevar_pares(numbers)\n",
    "    print(\"Numeros pares al cuadrado: \", squared_result)\n",
    "    \n",
    "    # Process negative numbers (cube them)\n",
    "    cubed_result = negativos_cubo(numbers)\n",
    "    print(\"Numeros negativos al cubo: \", cubed_result)\n",
    "\n",
    "if __name__ == \"__main__\":\n",
    "    main()"
   ]
  }
 ],
 "metadata": {
  "kernelspec": {
   "display_name": "Python 3",
   "language": "python",
   "name": "python3"
  },
  "language_info": {
   "codemirror_mode": {
    "name": "ipython",
    "version": 3
   },
   "file_extension": ".py",
   "mimetype": "text/x-python",
   "name": "python",
   "nbconvert_exporter": "python",
   "pygments_lexer": "ipython3",
   "version": "3.13.0"
  }
 },
 "nbformat": 4,
 "nbformat_minor": 2
}
